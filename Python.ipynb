{
 "cells": [
  {
   "cell_type": "markdown",
   "metadata": {},
   "source": [
    "## Importando as bibliotecas para começar a trabalhar"
   ]
  },
  {
   "cell_type": "code",
   "execution_count": 93,
   "metadata": {
    "collapsed": true
   },
   "outputs": [],
   "source": [
    "import numpy as np"
   ]
  },
  {
   "cell_type": "code",
   "execution_count": 94,
   "metadata": {
    "collapsed": true
   },
   "outputs": [],
   "source": [
    "import math "
   ]
  },
  {
   "cell_type": "code",
   "execution_count": 95,
   "metadata": {
    "collapsed": true
   },
   "outputs": [],
   "source": [
    "import matplotlib.pyplot as plt"
   ]
  },
  {
   "cell_type": "code",
   "execution_count": 96,
   "metadata": {
    "collapsed": true
   },
   "outputs": [],
   "source": [
    "%matplotlib inline"
   ]
  },
  {
   "cell_type": "code",
   "execution_count": 97,
   "metadata": {
    "collapsed": true
   },
   "outputs": [],
   "source": [
    "import matplotlib.patches as mpatches"
   ]
  },
  {
   "cell_type": "markdown",
   "metadata": {},
   "source": [
    "## Agora vamos criar as variaveis"
   ]
  },
  {
   "cell_type": "code",
   "execution_count": 98,
   "metadata": {
    "collapsed": false
   },
   "outputs": [],
   "source": [
    "dados = np.loadtxt (\"dados/brazil-TAVG-Trend.txt\", comments=\"%\")"
   ]
  },
  {
   "cell_type": "code",
   "execution_count": 99,
   "metadata": {
    "collapsed": false
   },
   "outputs": [
    {
     "name": "stdout",
     "output_type": "stream",
     "text": [
      "[ 1832.  1832.  1832. ...,  2013.  2013.  2013.]\n"
     ]
    }
   ],
   "source": [
    "anos = dados [:, 0]\n",
    "print (anos)"
   ]
  },
  {
   "cell_type": "code",
   "execution_count": 100,
   "metadata": {
    "collapsed": false,
    "scrolled": true
   },
   "outputs": [
    {
     "name": "stdout",
     "output_type": "stream",
     "text": [
      "[-0.575 -1.005 -0.793 ...,  0.772  0.186    nan]\n"
     ]
    }
   ],
   "source": [
    "anomaly_mes = dados [:, 2]\n",
    "print (anomaly_mes)"
   ]
  },
  {
   "cell_type": "code",
   "execution_count": 101,
   "metadata": {
    "collapsed": false
   },
   "outputs": [
    {
     "name": "stdout",
     "output_type": "stream",
     "text": [
      "[ 1.372  1.953  1.359 ...,  0.201  0.247    nan]\n"
     ]
    }
   ],
   "source": [
    "unc_mes = dados [:, 3]\n",
    "print (unc_mes)"
   ]
  },
  {
   "cell_type": "code",
   "execution_count": 102,
   "metadata": {
    "collapsed": false
   },
   "outputs": [
    {
     "name": "stdout",
     "output_type": "stream",
     "text": [
      "[ nan  nan  nan ...,  nan  nan  nan]\n"
     ]
    }
   ],
   "source": [
    "anomaly_ano = dados [:, 4]\n",
    "print (anomaly_ano)"
   ]
  },
  {
   "cell_type": "code",
   "execution_count": 103,
   "metadata": {
    "collapsed": false
   },
   "outputs": [
    {
     "name": "stdout",
     "output_type": "stream",
     "text": [
      "[ nan  nan  nan ...,  nan  nan  nan]\n"
     ]
    }
   ],
   "source": [
    "unc_ano = dados [:, 5]\n",
    "print (unc_ano)"
   ]
  },
  {
   "cell_type": "code",
   "execution_count": 104,
   "metadata": {
    "collapsed": false
   },
   "outputs": [
    {
     "name": "stdout",
     "output_type": "stream",
     "text": [
      "[ nan  nan  nan ...,  nan  nan  nan]\n"
     ]
    }
   ],
   "source": [
    "anomaly_10anos = dados [:, 8]\n",
    "print (anomaly_10anos)"
   ]
  },
  {
   "cell_type": "code",
   "execution_count": 105,
   "metadata": {
    "collapsed": false
   },
   "outputs": [
    {
     "name": "stdout",
     "output_type": "stream",
     "text": [
      "[ nan  nan  nan ...,  nan  nan  nan]\n"
     ]
    }
   ],
   "source": [
    "unc_10anos = dados [:, 9]\n",
    "print (unc_10anos)"
   ]
  },
  {
   "cell_type": "code",
   "execution_count": null,
   "metadata": {
    "collapsed": false
   },
   "outputs": [],
   "source": []
  },
  {
   "cell_type": "markdown",
   "metadata": {
    "collapsed": false
   },
   "source": [
    "## Calculando a média e o desvio padrão da anomalia de temperatura anual do Brasil ao longo de todos os anos"
   ]
  },
  {
   "cell_type": "code",
   "execution_count": 106,
   "metadata": {
    "collapsed": false
   },
   "outputs": [
    {
     "name": "stdout",
     "output_type": "stream",
     "text": [
      "0.496111048439\n"
     ]
    }
   ],
   "source": [
    "print (np.nanstd (anomaly_ano))"
   ]
  },
  {
   "cell_type": "code",
   "execution_count": 107,
   "metadata": {
    "collapsed": false
   },
   "outputs": [
    {
     "name": "stdout",
     "output_type": "stream",
     "text": [
      "-0.229509107894\n"
     ]
    }
   ],
   "source": [
    "print (np.nanmean (anomaly_ano))"
   ]
  },
  {
   "cell_type": "markdown",
   "metadata": {},
   "source": [
    "## Agora vamos dar inicio ao gráfico"
   ]
  },
  {
   "cell_type": "code",
   "execution_count": 108,
   "metadata": {
    "collapsed": false
   },
   "outputs": [
    {
     "data": {
      "text/plain": [
       "<matplotlib.text.Text at 0x24130a99908>"
      ]
     },
     "execution_count": 108,
     "metadata": {},
     "output_type": "execute_result"
    },
    {
     "data": {
      "image/png": "[encoded data removed]",
      "text/plain": [
       "<matplotlib.figure.Figure at 0x241308193c8>"
      ]
     },
     "metadata": {},
     "output_type": "display_data"
    }
   ],
   "source": [
    "plt.plot (anos, ((25 + anomaly_10anos) + unc_10anos), c = \"#C0C0C0\")\n",
    "plt.plot (anos, ((25 + anomaly_10anos) - unc_10anos), c = \"#C0C0C0\")\n",
    "plt.plot (anos, 25 + anomaly_ano,c = \"#000000\")\n",
    "plt.plot (anos, 25 + anomaly_10anos, c = \"red\")\n",
    "\n",
    "black_patch = mpatches.Patch(color='#000000', label='12-month moving average')\n",
    "red_patch = mpatches.Patch(color='red', label='10-year moving average')\n",
    "plt.legend(handles=[red_patch, black_patch])\n",
    "\n",
    "plt.xlabel (\"Anos\")\n",
    "plt.ylabel (\"Temperatura\")\n",
    "plt.title(\"Brasil\")\n"
   ]
  },
  {
   "cell_type": "markdown",
   "metadata": {
    "collapsed": false
   },
   "source": [
    "#### OBS: A linha de codigo do grafico esta separada de cima pra baixo, na ordem de:\n",
    "    *Linha\n",
    "    *Legenda\n",
    "    *Eixos"
   ]
  },
  {
   "cell_type": "code",
   "execution_count": 123,
   "metadata": {
    "collapsed": false
   },
   "outputs": [],
   "source": [
    "x = ((25 + anomaly_10anos) + unc_10anos)\n",
    "y = ((25 + anomaly_10anos) - unc_10anos)"
   ]
  },
  {
   "cell_type": "code",
   "execution_count": 139,
   "metadata": {
    "collapsed": false
   },
   "outputs": [
    {
     "data": {
      "text/plain": [
       "[<matplotlib.patches.Polygon at 0x2413324c128>,\n",
       " <matplotlib.patches.Polygon at 0x2413324c3c8>]"
      ]
     },
     "execution_count": 139,
     "metadata": {},
     "output_type": "execute_result"
    }
   ],
   "source": [
    "ax.fill (anos, x, 'g', anos, y, 'r')\n"
   ]
  },
  {
   "cell_type": "code",
   "execution_count": 137,
   "metadata": {
    "collapsed": false
   },
   "outputs": [
    {
     "name": "stdout",
     "output_type": "stream",
     "text": [
      "Object `plt.patches.Polygon` not found.\n"
     ]
    }
   ],
   "source": []
  },
  {
   "cell_type": "code",
   "execution_count": null,
   "metadata": {
    "collapsed": true
   },
   "outputs": [],
   "source": []
  }
 ],
 "metadata": {
  "kernelspec": {
   "display_name": "Python [Root]",
   "language": "python",
   "name": "Python [Root]"
  },
  "language_info": {
   "codemirror_mode": {
    "name": "ipython",
    "version": 3
   },
   "file_extension": ".py",
   "mimetype": "text/x-python",
   "name": "python",
   "nbconvert_exporter": "python",
   "pygments_lexer": "ipython3",
   "version": "3.5.2"
  }
 },
 "nbformat": 4,
 "nbformat_minor": 0
}
