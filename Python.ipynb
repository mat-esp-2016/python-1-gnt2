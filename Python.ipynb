{
 "cells": [
  {
   "cell_type": "code",
   "execution_count": 1,
   "metadata": {
    "collapsed": true
   },
   "outputs": [],
   "source": [
    "import numpy as np"
   ]
  },
  {
   "cell_type": "code",
   "execution_count": 11,
   "metadata": {
    "collapsed": false
   },
   "outputs": [],
   "source": [
    "dados = np.loadtxt(\"dados/brazil-TAVG-Trend.txt\",comments=\"%\")"
   ]
  },
  {
   "cell_type": "code",
   "execution_count": 12,
   "metadata": {
    "collapsed": false
   },
   "outputs": [
    {
     "data": {
      "text/plain": [
       "array([[  1.83200000e+03,   1.00000000e+00,  -5.75000000e-01, ...,\n",
       "                     nan,              nan,              nan],\n",
       "       [  1.83200000e+03,   2.00000000e+00,  -1.00500000e+00, ...,\n",
       "                     nan,              nan,              nan],\n",
       "       [  1.83200000e+03,   3.00000000e+00,  -7.93000000e-01, ...,\n",
       "                     nan,              nan,              nan],\n",
       "       ..., \n",
       "       [  2.01300000e+03,   7.00000000e+00,   7.72000000e-01, ...,\n",
       "                     nan,              nan,              nan],\n",
       "       [  2.01300000e+03,   8.00000000e+00,   1.86000000e-01, ...,\n",
       "                     nan,              nan,              nan],\n",
       "       [  2.01300000e+03,   9.00000000e+00,              nan, ...,\n",
       "                     nan,              nan,              nan]])"
      ]
     },
     "execution_count": 12,
     "metadata": {},
     "output_type": "execute_result"
    }
   ],
   "source": [
    "dados"
   ]
  },
  {
   "cell_type": "code",
   "execution_count": 13,
   "metadata": {
    "collapsed": false
   },
   "outputs": [
    {
     "data": {
      "text/plain": [
       "-0.2295091078935077"
      ]
     },
     "execution_count": 13,
     "metadata": {},
     "output_type": "execute_result"
    }
   ],
   "source": [
    "np.nanmean(dados[:, 4])"
   ]
  },
  {
   "cell_type": "code",
   "execution_count": null,
   "metadata": {
    "collapsed": true
   },
   "outputs": [],
   "source": []
  }
 ],
 "metadata": {
  "kernelspec": {
   "display_name": "Python [Root]",
   "language": "python",
   "name": "Python [Root]"
  },
  "language_info": {
   "codemirror_mode": {
    "name": "ipython",
    "version": 3
   },
   "file_extension": ".py",
   "mimetype": "text/x-python",
   "name": "python",
   "nbconvert_exporter": "python",
   "pygments_lexer": "ipython3",
   "version": "3.5.2"
  }
 },
 "nbformat": 4,
 "nbformat_minor": 0
}
