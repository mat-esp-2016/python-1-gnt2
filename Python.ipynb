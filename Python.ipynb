{
 "cells": [
  {
   "cell_type": "markdown",
   "metadata": {},
   "source": [
    "## Importando as bibliotecas para começar a trabalhar"
   ]
  },
  {
   "cell_type": "code",
   "execution_count": 1,
   "metadata": {
    "collapsed": true
   },
   "outputs": [],
   "source": [
    "import numpy as np"
   ]
  },
  {
   "cell_type": "code",
   "execution_count": 2,
   "metadata": {
    "collapsed": true
   },
   "outputs": [],
   "source": [
    "import matplotlib.pyplot as plt"
   ]
  },
  {
   "cell_type": "code",
   "execution_count": 3,
   "metadata": {
    "collapsed": true
   },
   "outputs": [],
   "source": [
    "%matplotlib inline"
   ]
  },
  {
   "cell_type": "code",
   "execution_count": 4,
   "metadata": {
    "collapsed": true
   },
   "outputs": [],
   "source": [
    "import matplotlib.patches as mpatches"
   ]
  },
  {
   "cell_type": "markdown",
   "metadata": {},
   "source": [
    "## Agora vamos criar as variaveis"
   ]
  },
  {
   "cell_type": "code",
   "execution_count": 5,
   "metadata": {
    "collapsed": false
   },
   "outputs": [],
   "source": [
    "dados = np.loadtxt (\"dados/brazil-TAVG-Trend.txt\", comments=\"%\")"
   ]
  },
  {
   "cell_type": "code",
   "execution_count": 6,
   "metadata": {
    "collapsed": false
   },
   "outputs": [
    {
     "name": "stdout",
     "output_type": "stream",
     "text": [
      "[ 1832.  1832.  1832. ...,  2013.  2013.  2013.]\n"
     ]
    }
   ],
   "source": [
    "anos = dados [:, 0]\n",
    "print (anos)"
   ]
  },
  {
   "cell_type": "code",
   "execution_count": 7,
   "metadata": {
    "collapsed": false
   },
   "outputs": [
    {
     "name": "stdout",
     "output_type": "stream",
     "text": [
      "[ nan  nan  nan ...,  nan  nan  nan]\n"
     ]
    }
   ],
   "source": [
    "anomaly_ano = dados [:, 4]\n",
    "print (anomaly_ano)"
   ]
  },
  {
   "cell_type": "code",
   "execution_count": 8,
   "metadata": {
    "collapsed": false
   },
   "outputs": [
    {
     "name": "stdout",
     "output_type": "stream",
     "text": [
      "[ nan  nan  nan ...,  nan  nan  nan]\n"
     ]
    }
   ],
   "source": [
    "anomaly_10anos = dados [:, 8]\n",
    "print (anomaly_10anos)"
   ]
  },
  {
   "cell_type": "code",
   "execution_count": 9,
   "metadata": {
    "collapsed": false
   },
   "outputs": [
    {
     "name": "stdout",
     "output_type": "stream",
     "text": [
      "[ nan  nan  nan ...,  nan  nan  nan]\n"
     ]
    }
   ],
   "source": [
    "unc_10anos = dados [:, 9]\n",
    "print (unc_10anos)"
   ]
  },
  {
   "cell_type": "markdown",
   "metadata": {
    "collapsed": false
   },
   "source": [
    "## Calculando a média e o desvio padrão da anomalia de temperatura anual do Brasil ao longo de todos os anos"
   ]
  },
  {
   "cell_type": "code",
   "execution_count": 10,
   "metadata": {
    "collapsed": false
   },
   "outputs": [
    {
     "name": "stdout",
     "output_type": "stream",
     "text": [
      "0.496111048439\n"
     ]
    }
   ],
   "source": [
    "print (np.nanstd (anomaly_ano))"
   ]
  },
  {
   "cell_type": "code",
   "execution_count": 11,
   "metadata": {
    "collapsed": false
   },
   "outputs": [
    {
     "name": "stdout",
     "output_type": "stream",
     "text": [
      "-0.229509107894\n"
     ]
    }
   ],
   "source": [
    "print (np.nanmean (anomaly_ano))"
   ]
  },
  {
   "cell_type": "markdown",
   "metadata": {},
   "source": [
    "## Agora vamos dar inicio ao gráfico"
   ]
  },
  {
   "cell_type": "code",
   "execution_count": 20,
   "metadata": {
    "collapsed": false
   },
   "outputs": [
    {
     "data": {
      "text/plain": [
       "<matplotlib.text.Text at 0x231e9f8e1d0>"
      ]
     },
     "execution_count": 20,
     "metadata": {},
     "output_type": "execute_result"
    },
    {
     "data": {
      "image/png": "[encoded data removed]",
      "text/plain": [
       "<matplotlib.figure.Figure at 0x231e9f65e10>"
      ]
     },
     "metadata": {},
     "output_type": "display_data"
    }
   ],
   "source": [
    "plt.fill_between(anos, ((25 + anomaly_10anos) + unc_10anos), ((25 + anomaly_10anos) - unc_10anos), color = \"#C0C0C0\")\n",
    "plt.plot (anos, 25 + anomaly_ano, c = \"#000000\")\n",
    "plt.plot (anos, 25 + anomaly_10anos, c = \"red\")\n",
    "\n",
    "grey_patch = mpatches.Patch (color='#C0C0C0', label='95% ')\n",
    "black_patch = mpatches.Patch (color='#000000', label='12-month moving average')\n",
    "red_patch = mpatches.Patch (color='red', label='10-year moving average')\n",
    "plt.legend (handles = [ red_patch, black_patch])\n",
    "\n",
    "plt.xlabel (\"Anos\")\n",
    "plt.ylabel (\"Temperatura °C\")\n",
    "plt.title(\"Brasil\")\n"
   ]
  },
  {
   "cell_type": "markdown",
   "metadata": {
    "collapsed": false
   },
   "source": [
    "#### OBS: A linha de codigo do grafico esta separada de cima pra baixo, na ordem de:\n",
    "    *Linha\n",
    "    *Legenda\n",
    "    *Eixos"
   ]
  },
  {
   "cell_type": "code",
   "execution_count": null,
   "metadata": {
    "collapsed": true
   },
   "outputs": [],
   "source": []
  }
 ],
 "metadata": {
  "anaconda-cloud": {},
  "kernelspec": {
   "display_name": "Python [Root]",
   "language": "python",
   "name": "Python [Root]"
  },
  "language_info": {
   "codemirror_mode": {
    "name": "ipython",
    "version": 3
   },
   "file_extension": ".py",
   "mimetype": "text/x-python",
   "name": "python",
   "nbconvert_exporter": "python",
   "pygments_lexer": "ipython3",
   "version": "3.5.2"
  }
 },
 "nbformat": 4,
 "nbformat_minor": 0
}
